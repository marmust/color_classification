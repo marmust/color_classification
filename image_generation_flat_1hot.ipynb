{
 "cells": [
  {
   "cell_type": "code",
   "execution_count": 1,
   "metadata": {},
   "outputs": [
    {
     "name": "stderr",
     "output_type": "stream",
     "text": [
      "c:\\Users\\user\\anaconda3\\envs\\summarizerP39\\lib\\site-packages\\tqdm\\auto.py:22: TqdmWarning: IProgress not found. Please update jupyter and ipywidgets. See https://ipywidgets.readthedocs.io/en/stable/user_install.html\n",
      "  from .autonotebook import tqdm as notebook_tqdm\n"
     ]
    }
   ],
   "source": [
    "import torch\n",
    "import torch.nn as nn\n",
    "import torch.nn.functional as F\n",
    "import torch.optim as optim\n",
    "import matplotlib.pyplot as plt\n",
    "from tqdm import tqdm\n",
    "import os\n",
    "from PIL import Image\n",
    "import numpy as np"
   ]
  },
  {
   "cell_type": "code",
   "execution_count": 2,
   "metadata": {},
   "outputs": [],
   "source": [
    "# --- sys settings ---\n",
    "\n",
    "# square resolution image\n",
    "\n",
    "#     image_res\n",
    "#    _____|____\n",
    "#   |         |\n",
    "#    _________  __\n",
    "#   |        |    |\n",
    "#   |  image |    |-- image_res\n",
    "#   |________|  __|\n",
    "image_res = 32\n",
    "\n",
    "#   how many classes to remember (types of images)\n",
    "\n",
    "#               num classes\n",
    "#    _______________|_______________\n",
    "#   |                              |\n",
    "#    ___   ___            ___   ___\n",
    "#   |__|  |__|    ...    |__|  |__|\n",
    "num_classes = 2\n",
    "\n",
    "# --- net settings ---\n",
    "\n",
    "# build parameters of the network\n",
    "\n",
    "# network:\n",
    "#               image_res^2 + num classes\n",
    "#   (to represent: flattened image + which class to draw)\n",
    "#           ________________|__________________\n",
    "#          |                                  |\n",
    "#          +  +  +  +  +   ...   +  +  +  +  +\n",
    "\n",
    "#                      layer_size\n",
    "#     ______________________|________________________           ___\n",
    "#    |                                              |              |\n",
    "#    +  +  +  +  +  +  +   ...   +  +  +  +  +  +  +               |\n",
    "#                                                                  |\n",
    "#                      layer_size                                  |\n",
    "#     ______________________|________________________              |\n",
    "#    |                                              |              |\n",
    "#    +  +  +  +  +  +  +   ...   +  +  +  +  +  +  +               |\n",
    "#                                                                  |\n",
    "#                           .                                      |\n",
    "#                           .                                      |____  num_hidden\n",
    "#                           .                                      |\n",
    "#                                                                  |\n",
    "#                      layer_size                                  |\n",
    "#     ______________________|________________________              |\n",
    "#    |                                              |              |\n",
    "#    +  +  +  +  +  +  +   ...   +  +  +  +  +  +  +               |\n",
    "#                                                                  |\n",
    "#                      layer_size                                  |\n",
    "#     ______________________|________________________              |\n",
    "#    |                                              |              |\n",
    "#    +  +  +  +  +  +  +   ...   +  +  +  +  +  +  +             __|\n",
    "\n",
    "#                            3\n",
    "#       (to represent: RGB values per that pixel)\n",
    "#                         ___|___\n",
    "#                        |      |\n",
    "#                        +  +  +\n",
    "\n",
    "# on initialization weights and biases are randomly chosen for each neurone from:\n",
    "\n",
    "# -init_range   <---------------------------0--------------------------->   +init_range\n",
    "\n",
    "num_hidden = 3\n",
    "layer_size = 2048\n",
    "init_range = 0.3\n",
    "\n",
    "# notes:\n",
    "\n",
    "# i havent explored making different shaped networks (using diffenrent layer sizes for each layer) much,\n",
    "# but i found that using a rectangle network works best.\n",
    "\n",
    "# using an init range of 1 to -1 is probably leads to better results because the network starts off having less dull colors"
   ]
  },
  {
   "cell_type": "code",
   "execution_count": 3,
   "metadata": {},
   "outputs": [
    {
     "data": {
      "text/plain": [
       "Net(\n",
       "  (fcip): Linear(in_features=1026, out_features=2048, bias=True)\n",
       "  (fc0): Linear(in_features=2048, out_features=2048, bias=True)\n",
       "  (fc1): Linear(in_features=2048, out_features=2048, bias=True)\n",
       "  (fc2): Linear(in_features=2048, out_features=2048, bias=True)\n",
       "  (fcop): Linear(in_features=2048, out_features=3, bias=True)\n",
       ")"
      ]
     },
     "execution_count": 3,
     "metadata": {},
     "output_type": "execute_result"
    }
   ],
   "source": [
    "class Net(nn.Module):\n",
    "    def __init__(self):\n",
    "        super(Net, self).__init__()\n",
    "        self.fcip = nn.Linear(image_res * image_res + num_classes, layer_size)\n",
    "        \n",
    "        for i in range(num_hidden):\n",
    "            setattr(self, f'fc{i}', nn.Linear(layer_size, layer_size))\n",
    "            nn.init.uniform_(getattr(self, f'fc{i}').weight, a=-init_range, b=init_range)\n",
    "\n",
    "        self.fcop = nn.Linear(layer_size, 3)\n",
    "        nn.init.uniform_(self.fcip.weight, a=-init_range, b=init_range)\n",
    "        nn.init.uniform_(self.fcop.weight, a=-init_range, b=init_range)\n",
    "\n",
    "    def forward(self, x):\n",
    "        x = torch.tanh(self.fcip(x))\n",
    "        \n",
    "        for i in range(num_hidden):\n",
    "            x = torch.tanh(getattr(self, f'fc{i}')(x))\n",
    "        \n",
    "        x = torch.sigmoid(self.fcop(x))\n",
    "        return x\n",
    "\n",
    "net = Net()\n",
    "GPU = torch.device(\"cuda\")\n",
    "net.to(GPU)"
   ]
  },
  {
   "cell_type": "code",
   "execution_count": 4,
   "metadata": {},
   "outputs": [],
   "source": [
    "loss = nn.BCELoss()\n",
    "optimizer = optim.AdamW(net.parameters(), lr=0.000001)"
   ]
  },
  {
   "cell_type": "code",
   "execution_count": 5,
   "metadata": {},
   "outputs": [],
   "source": [
    "def get_img_array(class_tensor):\n",
    "    coords = torch.meshgrid(torch.arange(image_res * image_res, dtype=torch.long, device=GPU))\n",
    "    \n",
    "    coords = torch.stack(coords, dim=-1)\n",
    "    \n",
    "    encoded = F.one_hot(coords).squeeze(1)\n",
    "    \n",
    "    with_classes = torch.zeros((image_res * image_res, image_res * image_res + num_classes))\n",
    "    with_classes = with_classes.to(GPU)\n",
    "    \n",
    "    with_classes[:, :-num_classes] = encoded\n",
    "    with_classes[:, -num_classes:] = class_tensor.repeat(image_res * image_res, 1)\n",
    "    \n",
    "    return net(with_classes.to(torch.float32)).reshape(image_res, image_res, 3)"
   ]
  },
  {
   "cell_type": "code",
   "execution_count": 6,
   "metadata": {},
   "outputs": [],
   "source": [
    "def load_image(image_path):\n",
    "    img = Image.open(image_path)\n",
    "    img = img.resize((image_res, image_res))\n",
    "    img = img.convert(\"RGB\")\n",
    "    img_array = np.array(img) / 255\n",
    "\n",
    "    return torch.tensor(img_array, dtype=torch.float32, device=GPU)"
   ]
  },
  {
   "cell_type": "code",
   "execution_count": 7,
   "metadata": {},
   "outputs": [],
   "source": [
    "def display_image(img_array):\n",
    "    if type(img_array) != type(np.array([1, 2, 3])):\n",
    "        img_array = img_array.detach().cpu().numpy()\n",
    "    plt.imshow(img_array)\n",
    "    plt.show()"
   ]
  },
  {
   "cell_type": "code",
   "execution_count": 8,
   "metadata": {},
   "outputs": [],
   "source": [
    "def train_nn(question_tensor, answer_tensor, model, loss=loss, optimizer=optimizer):\n",
    "    optimizer.zero_grad()\n",
    "    outputs = model(question_tensor)\n",
    "    loss = loss(outputs, answer_tensor)\n",
    "    loss.backward()\n",
    "    optimizer.step()"
   ]
  },
  {
   "cell_type": "code",
   "execution_count": 9,
   "metadata": {},
   "outputs": [
    {
     "name": "stderr",
     "output_type": "stream",
     "text": [
      "100%|██████████| 10/10 [00:03<00:00,  3.13it/s]\n"
     ]
    }
   ],
   "source": [
    "\n",
    "files_class_1 = os.listdir(r\"PATH TO FOLDER\")\n",
    "files_class_2 = os.listdir(r\"PATH TO FOLDER\")\n",
    "\n",
    "tensor_class_1 = torch.tensor([1, 0], dtype=torch.float32, device=GPU)\n",
    "tensor_class_2 = torch.tensor([0, 1], dtype=torch.float32, device=GPU)\n",
    "\n",
    "questions = []\n",
    "answers = []\n",
    "\n",
    "for x in tqdm(range(len(files_class_1))):\n",
    "    img_c1 = load_image(fr\"PATH TO FOLDER\\{files_class_1[x]}\").reshape(image_res * image_res, 3)\n",
    "    img_c2 = load_image(fr\"PATH TO FOLDER\\{files_class_2[x]}\").reshape(image_res * image_res, 3)\n",
    "    \n",
    "    for y in range(len(img_c1)):\n",
    "        encoded = torch.cat((torch.zeros(image_res * image_res, device=GPU), tensor_class_1))\n",
    "        \n",
    "        encoded[y] = 1\n",
    "        \n",
    "        questions.append(encoded)\n",
    "        answers.append(img_c1[y])\n",
    "        \n",
    "        encoded = torch.cat((torch.zeros(image_res * image_res, device=GPU), tensor_class_2))\n",
    "        \n",
    "        encoded[y] = 1\n",
    "        \n",
    "        questions.append(encoded)\n",
    "        answers.append(img_c2[y])\n",
    "        \n",
    "        encoded = torch.cat((torch.zeros(image_res * image_res, device=GPU), tensor_class_1 + tensor_class_2))\n",
    "        \n",
    "        encoded[y] = 1\n",
    "        \n",
    "        questions.append(encoded)\n",
    "        answers.append((img_c1[y] + img_c2[y]))"
   ]
  },
  {
   "cell_type": "code",
   "execution_count": 10,
   "metadata": {},
   "outputs": [
    {
     "name": "stderr",
     "output_type": "stream",
     "text": [
      "100%|██████████| 3/3 [09:51<00:00, 197.17s/it]\n"
     ]
    }
   ],
   "source": [
    "for y in tqdm(range(3)):\n",
    "    for x in (range(len(questions))):\n",
    "        train_nn(questions[x], answers[x], net)"
   ]
  },
  {
   "cell_type": "code",
   "execution_count": 16,
   "metadata": {},
   "outputs": [
    {
     "data": {
      "image/png": "[encoded data removed]",
      "text/plain": [
       "<Figure size 640x480 with 1 Axes>"
      ]
     },
     "metadata": {},
     "output_type": "display_data"
    }
   ],
   "source": [
    "# strawberry:\n",
    "\n",
    "display_image(get_img_array(torch.tensor([1, 0],device=GPU)))"
   ]
  },
  {
   "cell_type": "code",
   "execution_count": 19,
   "metadata": {},
   "outputs": [
    {
     "data": {
      "image/png": "[encoded data removed]",
      "text/plain": [
       "<Figure size 640x480 with 1 Axes>"
      ]
     },
     "metadata": {},
     "output_type": "display_data"
    }
   ],
   "source": [
    "# banana:\n",
    "\n",
    "display_image(get_img_array(torch.tensor([0, 1],device=GPU)))"
   ]
  },
  {
   "cell_type": "code",
   "execution_count": 18,
   "metadata": {},
   "outputs": [
    {
     "data": {
      "image/png": "[encoded data removed]",
      "text/plain": [
       "<Figure size 640x480 with 1 Axes>"
      ]
     },
     "metadata": {},
     "output_type": "display_data"
    }
   ],
   "source": [
    "# both of them:\n",
    "\n",
    "display_image(get_img_array(torch.tensor([1, 1],device=GPU)))"
   ]
  },
  {
   "cell_type": "code",
   "execution_count": 28,
   "metadata": {},
   "outputs": [
    {
     "data": {
      "image/png": "[encoded data removed]",
      "text/plain": [
       "<Figure size 640x480 with 1 Axes>"
      ]
     },
     "metadata": {},
     "output_type": "display_data"
    }
   ],
   "source": [
    "# all zeros:\n",
    "\n",
    "display_image(get_img_array(torch.tensor([0, 0],device=GPU)))"
   ]
  },
  {
   "cell_type": "code",
   "execution_count": 26,
   "metadata": {},
   "outputs": [],
   "source": [
    "# good parameters i found:\n",
    "# image_res = 32\n",
    "# num_hidden = 3\n",
    "# layer_size = 2048\n",
    "# init_range = 0.3\n",
    "# loss = nn.BCELoss()\n",
    "# optimizer = optim.AdamW(net.parameters(), lr=0.000001)\n",
    "# train over a few epochs (~3)"
   ]
  },
  {
   "cell_type": "code",
   "execution_count": null,
   "metadata": {},
   "outputs": [],
   "source": []
  }
 ],
 "metadata": {
  "kernelspec": {
   "display_name": "summarizerP39",
   "language": "python",
   "name": "python3"
  },
  "language_info": {
   "codemirror_mode": {
    "name": "ipython",
    "version": 3
   },
   "file_extension": ".py",
   "mimetype": "text/x-python",
   "name": "python",
   "nbconvert_exporter": "python",
   "pygments_lexer": "ipython3",
   "version": "3.9.16"
  },
  "orig_nbformat": 4
 },
 "nbformat": 4,
 "nbformat_minor": 2
}
